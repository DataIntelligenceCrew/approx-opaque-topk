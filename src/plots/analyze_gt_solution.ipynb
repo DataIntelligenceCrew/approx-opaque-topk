{
 "cells": [
  {
   "cell_type": "code",
   "execution_count": 57,
   "id": "7886c7a4-89b3-4498-80ab-c1e99358288b",
   "metadata": {},
   "outputs": [],
   "source": [
    "import json\n",
    "import argparse\n",
    "from collections import defaultdict, Counter\n",
    "import matplotlib.pyplot as plt\n",
    "from matplotlib.cm import ScalarMappable\n",
    "from matplotlib.colors import Normalize\n",
    "import numpy as np"
   ]
  },
  {
   "cell_type": "code",
   "execution_count": 2,
   "id": "b5d5c4eb-7a37-4a2e-a24c-d76e5dfbbcc2",
   "metadata": {},
   "outputs": [],
   "source": [
    "def read_json(file_path):\n",
    "    with open(file_path, 'r') as f:\n",
    "        return json.load(f)"
   ]
  },
  {
   "cell_type": "code",
   "execution_count": 4,
   "id": "0f7e022f-f994-4f51-9ae0-53aa5ebe4534",
   "metadata": {},
   "outputs": [],
   "source": [
    "def find_ids_with_elements(dendrogram, gt_solution):\n",
    "    id_map = {}\n",
    "\n",
    "    def traverse(node, node_id):\n",
    "        if isinstance(node[\"children\"], list) and all(isinstance(child, dict) for child in node[\"children\"]):\n",
    "            for i, child in enumerate(node[\"children\"]):\n",
    "                traverse(child, node_id + [i])\n",
    "        elif isinstance(node[\"children\"], list) and all(isinstance(child, str) for child in node[\"children\"]):  # Leaf node\n",
    "            for element in node[\"children\"]:\n",
    "                if element in gt_solution:\n",
    "                    id_map[element] = node_id\n",
    "\n",
    "    traverse(dendrogram, [])\n",
    "    return id_map"
   ]
  },
  {
   "cell_type": "code",
   "execution_count": 6,
   "id": "ba0672a2-8a71-4266-bd1f-9de941efc3b8",
   "metadata": {},
   "outputs": [],
   "source": [
    "def analyze_solution_ids(gt_solution_ids):\n",
    "    id_counter = defaultdict(list)\n",
    "\n",
    "    for element, node_id in gt_solution_ids.items():\n",
    "        id_counter[tuple(node_id)].append(element)\n",
    "\n",
    "    frequency_analysis = {}\n",
    "    for node_id, elements in id_counter.items():\n",
    "        frequency_analysis[node_id] = len(elements)\n",
    "\n",
    "    return frequency_analysis"
   ]
  },
  {
   "cell_type": "code",
   "execution_count": 13,
   "id": "9193cf3e-464f-4415-966f-6530bfa3889b",
   "metadata": {},
   "outputs": [],
   "source": [
    "gt_filename = \"\"\n",
    "dendrogram_index = \"\""
   ]
  },
  {
   "cell_type": "code",
   "execution_count": 14,
   "id": "9ab08291-a201-46b0-82c6-0b5dd91127c2",
   "metadata": {},
   "outputs": [],
   "source": [
    "gt_data = read_json(gt_filename)\n",
    "dendrogram_data = read_json(dendrogram_index)"
   ]
  },
  {
   "cell_type": "code",
   "execution_count": 15,
   "id": "fc1c6568-f0f2-46b0-88ee-cd1b9b7d02a3",
   "metadata": {},
   "outputs": [],
   "source": [
    "gt_solution = gt_data.get(\"gt_solution\", [])"
   ]
  },
  {
   "cell_type": "code",
   "execution_count": 16,
   "id": "8ef0c42e-1c72-4a12-8c3c-a492575ac51e",
   "metadata": {},
   "outputs": [],
   "source": [
    "gt_solution_ids = find_ids_with_elements(dendrogram_data, gt_solution)"
   ]
  },
  {
   "cell_type": "code",
   "execution_count": 19,
   "id": "1ee028af-69ba-4328-8f7a-3712c3417375",
   "metadata": {},
   "outputs": [],
   "source": [
    "analysis = analyze_solution_ids(gt_solution_ids)\n",
    "sorted_analysis = sorted(analysis.items(), key=lambda x: -x[1])"
   ]
  },
  {
   "cell_type": "code",
   "execution_count": 64,
   "id": "39e367b2-9ff0-472b-a16b-b5f96093d6b5",
   "metadata": {},
   "outputs": [
    {
     "data": {
      "text/plain": [
       "{(0, 0, 1, 1, 1, 0, 1, 0, 0): 1,\n",
       " (0, 0, 1, 1, 1, 1, 0, 0): 5,\n",
       " (1, 0, 1, 1, 1, 0, 0, 0): 11,\n",
       " (1, 0, 1, 1, 1, 0, 0, 1): 5,\n",
       " (1, 0, 1, 1, 1, 0, 1, 0): 29,\n",
       " (1, 0, 1, 1, 1, 0, 1, 1): 1,\n",
       " (1, 0, 1, 1, 1, 1, 0, 0, 0, 0): 15,\n",
       " (1, 0, 1, 1, 1, 1, 0, 0, 0, 1): 18,\n",
       " (1, 0, 1, 1, 1, 1, 1, 1, 1, 0, 0, 1, 0, 0): 1,\n",
       " (1, 0, 1, 1, 1, 1, 1, 1, 1, 0, 1, 0): 2,\n",
       " (1, 0, 1, 1, 1, 1, 1, 1, 1, 0, 1, 1, 0): 28,\n",
       " (1, 0, 1, 1, 1, 1, 1, 1, 1, 0, 1, 1, 1, 0): 10,\n",
       " (1, 0, 1, 1, 1, 1, 1, 1, 1, 0, 1, 1, 1, 1): 13,\n",
       " (1, 0, 1, 1, 1, 1, 1, 1, 1, 1, 1, 1, 1, 1, 0, 1, 0, 1, 1, 1, 1): 1,\n",
       " (1, 0, 1, 1, 1, 1, 1, 1, 1, 1, 1, 1, 1, 1, 1, 0, 1, 1, 0): 1,\n",
       " (1, 1, 0, 1, 0, 1, 0, 0, 0): 3,\n",
       " (1, 1, 0, 1, 0, 1, 0, 0, 1): 6,\n",
       " (1, 1, 0, 1, 0, 1, 0, 1, 0, 0, 0, 0): 1,\n",
       " (1, 1, 0, 1, 0, 1, 0, 1, 0, 0, 0, 1): 9,\n",
       " (1, 1, 0, 1, 0, 1, 0, 1, 0, 0, 1, 0): 1,\n",
       " (1, 1, 0, 1, 0, 1, 0, 1, 0, 0, 1, 1, 0): 1,\n",
       " (1, 1, 0, 1, 0, 1, 0, 1, 0, 1, 0): 16,\n",
       " (1, 1, 0, 1, 0, 1, 0, 1, 0, 1, 1, 1): 6,\n",
       " (1, 1, 0, 1, 0, 1, 0, 1, 1, 0): 5,\n",
       " (1, 1, 0, 1, 0, 1, 0, 1, 1, 1, 0): 16,\n",
       " (1, 1, 0, 1, 0, 1, 0, 1, 1, 1, 1, 0): 38,\n",
       " (1, 1, 0, 1, 0, 1, 0, 1, 1, 1, 1, 1): 1,\n",
       " (1, 1, 0, 1, 0, 1, 1, 1, 0, 0, 1, 0, 1, 1, 1, 0): 3,\n",
       " (1, 1, 0, 1, 0, 1, 1, 1, 0, 0, 1, 1, 1, 1, 0, 1, 0, 1, 1): 1,\n",
       " (1, 1, 0, 1, 0, 1, 1, 1, 0, 0, 1, 1, 1, 1, 1, 1, 0): 1,\n",
       " (1, 1, 0, 1, 0, 1, 1, 1, 1, 1, 1, 0): 1}"
      ]
     },
     "execution_count": 64,
     "metadata": {},
     "output_type": "execute_result"
    }
   ],
   "source": [
    "analysis"
   ]
  },
  {
   "cell_type": "code",
   "execution_count": 20,
   "id": "fe8cd1ce-bd3e-4553-a3e5-15be0768af2c",
   "metadata": {},
   "outputs": [
    {
     "data": {
      "text/plain": [
       "[((1, 1, 0, 1, 0, 1, 0, 1, 1, 1, 1, 0), 38),\n",
       " ((1, 0, 1, 1, 1, 0, 1, 0), 29),\n",
       " ((1, 0, 1, 1, 1, 1, 1, 1, 1, 0, 1, 1, 0), 28),\n",
       " ((1, 0, 1, 1, 1, 1, 0, 0, 0, 1), 18),\n",
       " ((1, 1, 0, 1, 0, 1, 0, 1, 0, 1, 0), 16),\n",
       " ((1, 1, 0, 1, 0, 1, 0, 1, 1, 1, 0), 16),\n",
       " ((1, 0, 1, 1, 1, 1, 0, 0, 0, 0), 15),\n",
       " ((1, 0, 1, 1, 1, 1, 1, 1, 1, 0, 1, 1, 1, 1), 13),\n",
       " ((1, 0, 1, 1, 1, 0, 0, 0), 11),\n",
       " ((1, 0, 1, 1, 1, 1, 1, 1, 1, 0, 1, 1, 1, 0), 10),\n",
       " ((1, 1, 0, 1, 0, 1, 0, 1, 0, 0, 0, 1), 9),\n",
       " ((1, 1, 0, 1, 0, 1, 0, 0, 1), 6),\n",
       " ((1, 1, 0, 1, 0, 1, 0, 1, 0, 1, 1, 1), 6),\n",
       " ((0, 0, 1, 1, 1, 1, 0, 0), 5),\n",
       " ((1, 0, 1, 1, 1, 0, 0, 1), 5),\n",
       " ((1, 1, 0, 1, 0, 1, 0, 1, 1, 0), 5),\n",
       " ((1, 1, 0, 1, 0, 1, 0, 0, 0), 3),\n",
       " ((1, 1, 0, 1, 0, 1, 1, 1, 0, 0, 1, 0, 1, 1, 1, 0), 3),\n",
       " ((1, 0, 1, 1, 1, 1, 1, 1, 1, 0, 1, 0), 2),\n",
       " ((0, 0, 1, 1, 1, 0, 1, 0, 0), 1),\n",
       " ((1, 0, 1, 1, 1, 0, 1, 1), 1),\n",
       " ((1, 0, 1, 1, 1, 1, 1, 1, 1, 0, 0, 1, 0, 0), 1),\n",
       " ((1, 0, 1, 1, 1, 1, 1, 1, 1, 1, 1, 1, 1, 1, 0, 1, 0, 1, 1, 1, 1), 1),\n",
       " ((1, 0, 1, 1, 1, 1, 1, 1, 1, 1, 1, 1, 1, 1, 1, 0, 1, 1, 0), 1),\n",
       " ((1, 1, 0, 1, 0, 1, 0, 1, 0, 0, 0, 0), 1),\n",
       " ((1, 1, 0, 1, 0, 1, 0, 1, 0, 0, 1, 0), 1),\n",
       " ((1, 1, 0, 1, 0, 1, 0, 1, 0, 0, 1, 1, 0), 1),\n",
       " ((1, 1, 0, 1, 0, 1, 0, 1, 1, 1, 1, 1), 1),\n",
       " ((1, 1, 0, 1, 0, 1, 1, 1, 0, 0, 1, 1, 1, 1, 0, 1, 0, 1, 1), 1),\n",
       " ((1, 1, 0, 1, 0, 1, 1, 1, 0, 0, 1, 1, 1, 1, 1, 1, 0), 1),\n",
       " ((1, 1, 0, 1, 0, 1, 1, 1, 1, 1, 1, 0), 1)]"
      ]
     },
     "execution_count": 20,
     "metadata": {},
     "output_type": "execute_result"
    }
   ],
   "source": [
    "sorted_analysis"
   ]
  },
  {
   "cell_type": "code",
   "execution_count": null,
   "id": "05652fb2-1bbb-4c04-a911-d9fcbcb4d621",
   "metadata": {},
   "outputs": [],
   "source": []
  }
 ],
 "metadata": {
  "kernelspec": {
   "display_name": "Python 3 (ipykernel)",
   "language": "python",
   "name": "python3"
  },
  "language_info": {
   "codemirror_mode": {
    "name": "ipython",
    "version": 3
   },
   "file_extension": ".py",
   "mimetype": "text/x-python",
   "name": "python",
   "nbconvert_exporter": "python",
   "pygments_lexer": "ipython3",
   "version": "3.8.20"
  }
 },
 "nbformat": 4,
 "nbformat_minor": 5
}
