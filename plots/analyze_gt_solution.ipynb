{
 "cells": [
  {
   "cell_type": "code",
   "execution_count": 57,
   "id": "7886c7a4-89b3-4498-80ab-c1e99358288b",
   "metadata": {},
   "outputs": [],
   "source": [
    "import json\n",
    "import argparse\n",
    "from collections import defaultdict, Counter\n",
    "import matplotlib.pyplot as plt\n",
    "from matplotlib.cm import ScalarMappable\n",
    "from matplotlib.colors import Normalize\n",
    "import numpy as np"
   ]
  },
  {
   "cell_type": "code",
   "execution_count": 2,
   "id": "b5d5c4eb-7a37-4a2e-a24c-d76e5dfbbcc2",
   "metadata": {},
   "outputs": [],
   "source": [
    "def read_json(file_path):\n",
    "    \"\"\"Read a JSON file and return the data.\"\"\"\n",
    "    with open(file_path, 'r') as f:\n",
    "        return json.load(f)"
   ]
  },
  {
   "cell_type": "code",
   "execution_count": 4,
   "id": "0f7e022f-f994-4f51-9ae0-53aa5ebe4534",
   "metadata": {},
   "outputs": [],
   "source": [
    "def find_ids_with_elements(dendrogram, gt_solution):\n",
    "    \"\"\"\n",
    "    Find the IDs in the dendrogram that contain each element in gt_solution.\n",
    "\n",
    "    Args:\n",
    "        dendrogram (dict): The nested dictionary encoding the tree.\n",
    "        gt_solution (list): List of strings to find in the tree.\n",
    "\n",
    "    Returns:\n",
    "        dict: A dictionary mapping each gt_solution element to its corresponding ID.\n",
    "    \"\"\"\n",
    "    id_map = {}\n",
    "\n",
    "    def traverse(node, node_id):\n",
    "        if isinstance(node[\"children\"], list) and all(isinstance(child, dict) for child in node[\"children\"]):\n",
    "            for i, child in enumerate(node[\"children\"]):\n",
    "                traverse(child, node_id + [i])\n",
    "        elif isinstance(node[\"children\"], list) and all(isinstance(child, str) for child in node[\"children\"]):  # Leaf node\n",
    "            for element in node[\"children\"]:\n",
    "                if element in gt_solution:\n",
    "                    id_map[element] = node_id\n",
    "\n",
    "    traverse(dendrogram, [])\n",
    "    return id_map"
   ]
  },
  {
   "cell_type": "code",
   "execution_count": 6,
   "id": "ba0672a2-8a71-4266-bd1f-9de941efc3b8",
   "metadata": {},
   "outputs": [],
   "source": [
    "def analyze_solution_ids(gt_solution_ids):\n",
    "    \"\"\"\n",
    "    Analyze the frequency of elements in each ID.\n",
    "\n",
    "    Args:\n",
    "        gt_solution_ids (dict): A mapping of gt_solution elements to their IDs.\n",
    "\n",
    "    Returns:\n",
    "        dict: A dictionary with IDs as keys and frequency counts of elements as values.\n",
    "    \"\"\"\n",
    "    id_counter = defaultdict(list)\n",
    "\n",
    "    for element, node_id in gt_solution_ids.items():\n",
    "        id_counter[tuple(node_id)].append(element)\n",
    "\n",
    "    frequency_analysis = {}\n",
    "    for node_id, elements in id_counter.items():\n",
    "        frequency_analysis[node_id] = len(elements)\n",
    "\n",
    "    return frequency_analysis"
   ]
  },
  {
   "cell_type": "code",
   "execution_count": 62,
   "id": "9c7a8078-49ce-46bb-93b8-da3e3c9f839d",
   "metadata": {},
   "outputs": [],
   "source": [
    "def plot_tree_with_dendrogram(dendrogram, analysis):\n",
    "    \"\"\"\n",
    "    Plot the dendrogram using matplotlib and annotate leaves with gt_solution frequencies.\n",
    "\n",
    "    Args:\n",
    "        dendrogram (dict): The nested dictionary representing the dendrogram.\n",
    "        analysis (dict): A mapping of IDs to frequencies for gt_solution.\n",
    "    \"\"\"\n",
    "    # Collect all leaf nodes to determine positions\n",
    "    leaf_positions = []\n",
    "\n",
    "    def collect_leaves(node, x, dx):\n",
    "        if isinstance(node[\"children\"], list) and all(isinstance(child, dict) for child in node[\"children\"]):\n",
    "            left_x = x - dx / 2\n",
    "            right_x = x + dx / 2\n",
    "            collect_leaves(node[\"children\"][0], left_x, dx / 2)\n",
    "            collect_leaves(node[\"children\"][1], right_x, dx / 2)\n",
    "        elif isinstance(node[\"children\"], list) and all(isinstance(child, str) for child in node[\"children\"]):\n",
    "            leaf_positions.append(x)\n",
    "\n",
    "    def plot_node(node, x, y, dx):\n",
    "        if isinstance(node[\"children\"], list) and all(isinstance(child, dict) for child in node[\"children\"]):\n",
    "            # Intermediate node\n",
    "            left_child, right_child = node[\"children\"]\n",
    "            left_x = x - dx / 2\n",
    "            right_x = x + dx / 2\n",
    "            plt.plot([x, left_x], [y, y - 1], color=\"black\")\n",
    "            plt.plot([x, right_x], [y, y - 1], color=\"black\")\n",
    "            plot_node(left_child, left_x, y - 1, dx / 2)\n",
    "            plot_node(right_child, right_x, y - 1, dx / 2)\n",
    "        elif isinstance(node[\"children\"], list) and all(isinstance(child, str) for child in node[\"children\"]):\n",
    "            # Leaf node\n",
    "            freq = analysis.get(tuple(node.get(\"id\", [])), 0)\n",
    "            leaf_y_level = min(leaf_positions) - 1  # All leaves at the same y-level\n",
    "            color_norm = Normalize(vmin=min(analysis.values()), vmax=max(analysis.values()))\n",
    "            cmap = plt.cm.viridis\n",
    "            color = cmap(color_norm(freq))\n",
    "            plt.text(x, leaf_y_level, str(freq), fontsize=10, ha=\"center\", va=\"top\", color=color, rotation=90)\n",
    "\n",
    "    # Determine leaf positions for consistent y-level\n",
    "    collect_leaves(dendrogram, 0, 10)\n",
    "    plt.figure(figsize=(12, 6))\n",
    "    plot_node(dendrogram, 0, 0, 10)\n",
    "\n",
    "    # Add color bar\n",
    "    sm = ScalarMappable(cmap=plt.cm.viridis, norm=Normalize(vmin=min(analysis.values()), vmax=max(analysis.values())))\n",
    "    sm.set_array([])\n",
    "    plt.colorbar(sm, orientation=\"horizontal\", label=\"Frequency\")\n",
    "\n",
    "    plt.axis(\"off\")\n",
    "    plt.show()"
   ]
  },
  {
   "cell_type": "code",
   "execution_count": 13,
   "id": "9193cf3e-464f-4415-966f-6530bfa3889b",
   "metadata": {},
   "outputs": [],
   "source": [
    "gt_filename = \"/home/jwc/approx-topk/Temp/Results/UsedCars/gt_small.json\"\n",
    "dendrogram_index = \"/home/jwc/approx-topk/Temp/Index/UsedCars/dendrogram.json\""
   ]
  },
  {
   "cell_type": "code",
   "execution_count": 14,
   "id": "9ab08291-a201-46b0-82c6-0b5dd91127c2",
   "metadata": {},
   "outputs": [],
   "source": [
    "gt_data = read_json(gt_filename)\n",
    "dendrogram_data = read_json(dendrogram_index)"
   ]
  },
  {
   "cell_type": "code",
   "execution_count": 15,
   "id": "fc1c6568-f0f2-46b0-88ee-cd1b9b7d02a3",
   "metadata": {},
   "outputs": [],
   "source": [
    "gt_solution = gt_data.get(\"gt_solution\", [])"
   ]
  },
  {
   "cell_type": "code",
   "execution_count": 16,
   "id": "8ef0c42e-1c72-4a12-8c3c-a492575ac51e",
   "metadata": {},
   "outputs": [],
   "source": [
    "gt_solution_ids = find_ids_with_elements(dendrogram_data, gt_solution)"
   ]
  },
  {
   "cell_type": "code",
   "execution_count": 19,
   "id": "1ee028af-69ba-4328-8f7a-3712c3417375",
   "metadata": {},
   "outputs": [],
   "source": [
    "analysis = analyze_solution_ids(gt_solution_ids)\n",
    "sorted_analysis = sorted(analysis.items(), key=lambda x: -x[1])"
   ]
  },
  {
   "cell_type": "code",
   "execution_count": 64,
   "id": "39e367b2-9ff0-472b-a16b-b5f96093d6b5",
   "metadata": {},
   "outputs": [
    {
     "data": {
      "text/plain": [
       "{(0, 0, 1, 1, 1, 0, 1, 0, 0): 1,\n",
       " (0, 0, 1, 1, 1, 1, 0, 0): 5,\n",
       " (1, 0, 1, 1, 1, 0, 0, 0): 11,\n",
       " (1, 0, 1, 1, 1, 0, 0, 1): 5,\n",
       " (1, 0, 1, 1, 1, 0, 1, 0): 29,\n",
       " (1, 0, 1, 1, 1, 0, 1, 1): 1,\n",
       " (1, 0, 1, 1, 1, 1, 0, 0, 0, 0): 15,\n",
       " (1, 0, 1, 1, 1, 1, 0, 0, 0, 1): 18,\n",
       " (1, 0, 1, 1, 1, 1, 1, 1, 1, 0, 0, 1, 0, 0): 1,\n",
       " (1, 0, 1, 1, 1, 1, 1, 1, 1, 0, 1, 0): 2,\n",
       " (1, 0, 1, 1, 1, 1, 1, 1, 1, 0, 1, 1, 0): 28,\n",
       " (1, 0, 1, 1, 1, 1, 1, 1, 1, 0, 1, 1, 1, 0): 10,\n",
       " (1, 0, 1, 1, 1, 1, 1, 1, 1, 0, 1, 1, 1, 1): 13,\n",
       " (1, 0, 1, 1, 1, 1, 1, 1, 1, 1, 1, 1, 1, 1, 0, 1, 0, 1, 1, 1, 1): 1,\n",
       " (1, 0, 1, 1, 1, 1, 1, 1, 1, 1, 1, 1, 1, 1, 1, 0, 1, 1, 0): 1,\n",
       " (1, 1, 0, 1, 0, 1, 0, 0, 0): 3,\n",
       " (1, 1, 0, 1, 0, 1, 0, 0, 1): 6,\n",
       " (1, 1, 0, 1, 0, 1, 0, 1, 0, 0, 0, 0): 1,\n",
       " (1, 1, 0, 1, 0, 1, 0, 1, 0, 0, 0, 1): 9,\n",
       " (1, 1, 0, 1, 0, 1, 0, 1, 0, 0, 1, 0): 1,\n",
       " (1, 1, 0, 1, 0, 1, 0, 1, 0, 0, 1, 1, 0): 1,\n",
       " (1, 1, 0, 1, 0, 1, 0, 1, 0, 1, 0): 16,\n",
       " (1, 1, 0, 1, 0, 1, 0, 1, 0, 1, 1, 1): 6,\n",
       " (1, 1, 0, 1, 0, 1, 0, 1, 1, 0): 5,\n",
       " (1, 1, 0, 1, 0, 1, 0, 1, 1, 1, 0): 16,\n",
       " (1, 1, 0, 1, 0, 1, 0, 1, 1, 1, 1, 0): 38,\n",
       " (1, 1, 0, 1, 0, 1, 0, 1, 1, 1, 1, 1): 1,\n",
       " (1, 1, 0, 1, 0, 1, 1, 1, 0, 0, 1, 0, 1, 1, 1, 0): 3,\n",
       " (1, 1, 0, 1, 0, 1, 1, 1, 0, 0, 1, 1, 1, 1, 0, 1, 0, 1, 1): 1,\n",
       " (1, 1, 0, 1, 0, 1, 1, 1, 0, 0, 1, 1, 1, 1, 1, 1, 0): 1,\n",
       " (1, 1, 0, 1, 0, 1, 1, 1, 1, 1, 1, 0): 1}"
      ]
     },
     "execution_count": 64,
     "metadata": {},
     "output_type": "execute_result"
    }
   ],
   "source": [
    "analysis"
   ]
  },
  {
   "cell_type": "code",
   "execution_count": 20,
   "id": "fe8cd1ce-bd3e-4553-a3e5-15be0768af2c",
   "metadata": {},
   "outputs": [
    {
     "data": {
      "text/plain": [
       "[((1, 1, 0, 1, 0, 1, 0, 1, 1, 1, 1, 0), 38),\n",
       " ((1, 0, 1, 1, 1, 0, 1, 0), 29),\n",
       " ((1, 0, 1, 1, 1, 1, 1, 1, 1, 0, 1, 1, 0), 28),\n",
       " ((1, 0, 1, 1, 1, 1, 0, 0, 0, 1), 18),\n",
       " ((1, 1, 0, 1, 0, 1, 0, 1, 0, 1, 0), 16),\n",
       " ((1, 1, 0, 1, 0, 1, 0, 1, 1, 1, 0), 16),\n",
       " ((1, 0, 1, 1, 1, 1, 0, 0, 0, 0), 15),\n",
       " ((1, 0, 1, 1, 1, 1, 1, 1, 1, 0, 1, 1, 1, 1), 13),\n",
       " ((1, 0, 1, 1, 1, 0, 0, 0), 11),\n",
       " ((1, 0, 1, 1, 1, 1, 1, 1, 1, 0, 1, 1, 1, 0), 10),\n",
       " ((1, 1, 0, 1, 0, 1, 0, 1, 0, 0, 0, 1), 9),\n",
       " ((1, 1, 0, 1, 0, 1, 0, 0, 1), 6),\n",
       " ((1, 1, 0, 1, 0, 1, 0, 1, 0, 1, 1, 1), 6),\n",
       " ((0, 0, 1, 1, 1, 1, 0, 0), 5),\n",
       " ((1, 0, 1, 1, 1, 0, 0, 1), 5),\n",
       " ((1, 1, 0, 1, 0, 1, 0, 1, 1, 0), 5),\n",
       " ((1, 1, 0, 1, 0, 1, 0, 0, 0), 3),\n",
       " ((1, 1, 0, 1, 0, 1, 1, 1, 0, 0, 1, 0, 1, 1, 1, 0), 3),\n",
       " ((1, 0, 1, 1, 1, 1, 1, 1, 1, 0, 1, 0), 2),\n",
       " ((0, 0, 1, 1, 1, 0, 1, 0, 0), 1),\n",
       " ((1, 0, 1, 1, 1, 0, 1, 1), 1),\n",
       " ((1, 0, 1, 1, 1, 1, 1, 1, 1, 0, 0, 1, 0, 0), 1),\n",
       " ((1, 0, 1, 1, 1, 1, 1, 1, 1, 1, 1, 1, 1, 1, 0, 1, 0, 1, 1, 1, 1), 1),\n",
       " ((1, 0, 1, 1, 1, 1, 1, 1, 1, 1, 1, 1, 1, 1, 1, 0, 1, 1, 0), 1),\n",
       " ((1, 1, 0, 1, 0, 1, 0, 1, 0, 0, 0, 0), 1),\n",
       " ((1, 1, 0, 1, 0, 1, 0, 1, 0, 0, 1, 0), 1),\n",
       " ((1, 1, 0, 1, 0, 1, 0, 1, 0, 0, 1, 1, 0), 1),\n",
       " ((1, 1, 0, 1, 0, 1, 0, 1, 1, 1, 1, 1), 1),\n",
       " ((1, 1, 0, 1, 0, 1, 1, 1, 0, 0, 1, 1, 1, 1, 0, 1, 0, 1, 1), 1),\n",
       " ((1, 1, 0, 1, 0, 1, 1, 1, 0, 0, 1, 1, 1, 1, 1, 1, 0), 1),\n",
       " ((1, 1, 0, 1, 0, 1, 1, 1, 1, 1, 1, 0), 1)]"
      ]
     },
     "execution_count": 20,
     "metadata": {},
     "output_type": "execute_result"
    }
   ],
   "source": [
    "sorted_analysis"
   ]
  },
  {
   "cell_type": "code",
   "execution_count": 63,
   "id": "19edea22-d611-4a37-963b-6aee82ee6384",
   "metadata": {},
   "outputs": [
    {
     "name": "stderr",
     "output_type": "stream",
     "text": [
      "/tmp/ipykernel_421791/3002652824.py:48: MatplotlibDeprecationWarning: Unable to determine Axes to steal space for Colorbar. Using gca(), but will raise in the future. Either provide the *cax* argument to use as the Axes for the Colorbar, provide the *ax* argument to steal space from it, or add *mappable* to an Axes.\n",
      "  plt.colorbar(sm, orientation=\"horizontal\", label=\"Frequency\")\n"
     ]
    },
    {
     "data": {
      "image/png": "[encoded data removed]",
      "text/plain": [
       "<Figure size 1200x600 with 2 Axes>"
      ]
     },
     "metadata": {},
     "output_type": "display_data"
    }
   ],
   "source": [
    "plot_tree_with_dendrogram(dendrogram_data, analysis)"
   ]
  },
  {
   "cell_type": "code",
   "execution_count": 71,
   "id": "92a63a3a-93d8-421f-a7aa-034bfbba7a41",
   "metadata": {},
   "outputs": [],
   "source": [
    "def print_leaf_depths_from_json(json_file_path: str):\n",
    "    \"\"\"\n",
    "    Reads a JSON file representing a tree, performs a DFS traversal, and prints the number of leaves\n",
    "    with each unique depth.\n",
    "\n",
    "    :param json_file_path: Path to the JSON file encoding the tree.\n",
    "    \"\"\"\n",
    "    with open(json_file_path, 'r') as f:\n",
    "        tree = json.load(f)\n",
    "\n",
    "    depth_counts = {}\n",
    "\n",
    "    def dfs(node, depth):\n",
    "        # Check if this is a leaf node (children is a list of strings)\n",
    "        if isinstance(node['children'], list) and all(isinstance(child, str) for child in node['children']):\n",
    "            if depth not in depth_counts:\n",
    "                depth_counts[depth] = 0\n",
    "            depth_counts[depth] += 1\n",
    "            return\n",
    "\n",
    "        # Recursively visit children if not a leaf\n",
    "        for child in node['children']:\n",
    "            dfs(child, depth + 1)\n",
    "\n",
    "    dfs(tree, 0)\n",
    "\n",
    "    for depth, count in sorted(depth_counts.items()):\n",
    "        print(f\"Depth {depth}: {count} leaves\")"
   ]
  },
  {
   "cell_type": "code",
   "execution_count": 74,
   "id": "7d972838-8023-4de4-bf49-5c553b028dfb",
   "metadata": {
    "scrolled": true
   },
   "outputs": [
    {
     "ename": "TypeError",
     "evalue": "list indices must be integers or slices, not str",
     "output_type": "error",
     "traceback": [
      "\u001b[0;31m---------------------------------------------------------------------------\u001b[0m",
      "\u001b[0;31mTypeError\u001b[0m                                 Traceback (most recent call last)",
      "Cell \u001b[0;32mIn[74], line 1\u001b[0m\n\u001b[0;32m----> 1\u001b[0m \u001b[43mprint_leaf_depths_from_json\u001b[49m\u001b[43m(\u001b[49m\u001b[38;5;124;43m'\u001b[39;49m\u001b[38;5;124;43m/home/jwc/approx-topk/Temp/Index/UsedCars/dendrogram-balanced.json\u001b[39;49m\u001b[38;5;124;43m'\u001b[39;49m\u001b[43m)\u001b[49m\n",
      "Cell \u001b[0;32mIn[71], line 25\u001b[0m, in \u001b[0;36mprint_leaf_depths_from_json\u001b[0;34m(json_file_path)\u001b[0m\n\u001b[1;32m     22\u001b[0m     \u001b[38;5;28;01mfor\u001b[39;00m child \u001b[38;5;129;01min\u001b[39;00m node[\u001b[38;5;124m'\u001b[39m\u001b[38;5;124mchildren\u001b[39m\u001b[38;5;124m'\u001b[39m]:\n\u001b[1;32m     23\u001b[0m         dfs(child, depth \u001b[38;5;241m+\u001b[39m \u001b[38;5;241m1\u001b[39m)\n\u001b[0;32m---> 25\u001b[0m \u001b[43mdfs\u001b[49m\u001b[43m(\u001b[49m\u001b[43mtree\u001b[49m\u001b[43m,\u001b[49m\u001b[43m \u001b[49m\u001b[38;5;241;43m0\u001b[39;49m\u001b[43m)\u001b[49m\n\u001b[1;32m     27\u001b[0m \u001b[38;5;28;01mfor\u001b[39;00m depth, count \u001b[38;5;129;01min\u001b[39;00m \u001b[38;5;28msorted\u001b[39m(depth_counts\u001b[38;5;241m.\u001b[39mitems()):\n\u001b[1;32m     28\u001b[0m     \u001b[38;5;28mprint\u001b[39m(\u001b[38;5;124mf\u001b[39m\u001b[38;5;124m\"\u001b[39m\u001b[38;5;124mDepth \u001b[39m\u001b[38;5;132;01m{\u001b[39;00mdepth\u001b[38;5;132;01m}\u001b[39;00m\u001b[38;5;124m: \u001b[39m\u001b[38;5;132;01m{\u001b[39;00mcount\u001b[38;5;132;01m}\u001b[39;00m\u001b[38;5;124m leaves\u001b[39m\u001b[38;5;124m\"\u001b[39m)\n",
      "Cell \u001b[0;32mIn[71], line 23\u001b[0m, in \u001b[0;36mprint_leaf_depths_from_json.<locals>.dfs\u001b[0;34m(node, depth)\u001b[0m\n\u001b[1;32m     21\u001b[0m \u001b[38;5;66;03m# Recursively visit children if not a leaf\u001b[39;00m\n\u001b[1;32m     22\u001b[0m \u001b[38;5;28;01mfor\u001b[39;00m child \u001b[38;5;129;01min\u001b[39;00m node[\u001b[38;5;124m'\u001b[39m\u001b[38;5;124mchildren\u001b[39m\u001b[38;5;124m'\u001b[39m]:\n\u001b[0;32m---> 23\u001b[0m     \u001b[43mdfs\u001b[49m\u001b[43m(\u001b[49m\u001b[43mchild\u001b[49m\u001b[43m,\u001b[49m\u001b[43m \u001b[49m\u001b[43mdepth\u001b[49m\u001b[43m \u001b[49m\u001b[38;5;241;43m+\u001b[39;49m\u001b[43m \u001b[49m\u001b[38;5;241;43m1\u001b[39;49m\u001b[43m)\u001b[49m\n",
      "Cell \u001b[0;32mIn[71], line 23\u001b[0m, in \u001b[0;36mprint_leaf_depths_from_json.<locals>.dfs\u001b[0;34m(node, depth)\u001b[0m\n\u001b[1;32m     21\u001b[0m \u001b[38;5;66;03m# Recursively visit children if not a leaf\u001b[39;00m\n\u001b[1;32m     22\u001b[0m \u001b[38;5;28;01mfor\u001b[39;00m child \u001b[38;5;129;01min\u001b[39;00m node[\u001b[38;5;124m'\u001b[39m\u001b[38;5;124mchildren\u001b[39m\u001b[38;5;124m'\u001b[39m]:\n\u001b[0;32m---> 23\u001b[0m     \u001b[43mdfs\u001b[49m\u001b[43m(\u001b[49m\u001b[43mchild\u001b[49m\u001b[43m,\u001b[49m\u001b[43m \u001b[49m\u001b[43mdepth\u001b[49m\u001b[43m \u001b[49m\u001b[38;5;241;43m+\u001b[39;49m\u001b[43m \u001b[49m\u001b[38;5;241;43m1\u001b[39;49m\u001b[43m)\u001b[49m\n",
      "    \u001b[0;31m[... skipping similar frames: print_leaf_depths_from_json.<locals>.dfs at line 23 (8 times)]\u001b[0m\n",
      "Cell \u001b[0;32mIn[71], line 23\u001b[0m, in \u001b[0;36mprint_leaf_depths_from_json.<locals>.dfs\u001b[0;34m(node, depth)\u001b[0m\n\u001b[1;32m     21\u001b[0m \u001b[38;5;66;03m# Recursively visit children if not a leaf\u001b[39;00m\n\u001b[1;32m     22\u001b[0m \u001b[38;5;28;01mfor\u001b[39;00m child \u001b[38;5;129;01min\u001b[39;00m node[\u001b[38;5;124m'\u001b[39m\u001b[38;5;124mchildren\u001b[39m\u001b[38;5;124m'\u001b[39m]:\n\u001b[0;32m---> 23\u001b[0m     \u001b[43mdfs\u001b[49m\u001b[43m(\u001b[49m\u001b[43mchild\u001b[49m\u001b[43m,\u001b[49m\u001b[43m \u001b[49m\u001b[43mdepth\u001b[49m\u001b[43m \u001b[49m\u001b[38;5;241;43m+\u001b[39;49m\u001b[43m \u001b[49m\u001b[38;5;241;43m1\u001b[39;49m\u001b[43m)\u001b[49m\n",
      "Cell \u001b[0;32mIn[71], line 15\u001b[0m, in \u001b[0;36mprint_leaf_depths_from_json.<locals>.dfs\u001b[0;34m(node, depth)\u001b[0m\n\u001b[1;32m     13\u001b[0m \u001b[38;5;28;01mdef\u001b[39;00m \u001b[38;5;21mdfs\u001b[39m(node, depth):\n\u001b[1;32m     14\u001b[0m     \u001b[38;5;66;03m# Check if this is a leaf node (children is a list of strings)\u001b[39;00m\n\u001b[0;32m---> 15\u001b[0m     \u001b[38;5;28;01mif\u001b[39;00m \u001b[38;5;28misinstance\u001b[39m(\u001b[43mnode\u001b[49m\u001b[43m[\u001b[49m\u001b[38;5;124;43m'\u001b[39;49m\u001b[38;5;124;43mchildren\u001b[39;49m\u001b[38;5;124;43m'\u001b[39;49m\u001b[43m]\u001b[49m, \u001b[38;5;28mlist\u001b[39m) \u001b[38;5;129;01mand\u001b[39;00m \u001b[38;5;28mall\u001b[39m(\u001b[38;5;28misinstance\u001b[39m(child, \u001b[38;5;28mstr\u001b[39m) \u001b[38;5;28;01mfor\u001b[39;00m child \u001b[38;5;129;01min\u001b[39;00m node[\u001b[38;5;124m'\u001b[39m\u001b[38;5;124mchildren\u001b[39m\u001b[38;5;124m'\u001b[39m]):\n\u001b[1;32m     16\u001b[0m         \u001b[38;5;28;01mif\u001b[39;00m depth \u001b[38;5;129;01mnot\u001b[39;00m \u001b[38;5;129;01min\u001b[39;00m depth_counts:\n\u001b[1;32m     17\u001b[0m             depth_counts[depth] \u001b[38;5;241m=\u001b[39m \u001b[38;5;241m0\u001b[39m\n",
      "\u001b[0;31mTypeError\u001b[0m: list indices must be integers or slices, not str"
     ]
    }
   ],
   "source": [
    "print_leaf_depths_from_json('/home/jwc/approx-topk/Temp/Index/UsedCars/dendrogram-balanced.json')"
   ]
  },
  {
   "cell_type": "code",
   "execution_count": null,
   "id": "05652fb2-1bbb-4c04-a911-d9fcbcb4d621",
   "metadata": {},
   "outputs": [],
   "source": []
  }
 ],
 "metadata": {
  "kernelspec": {
   "display_name": "Python 3 (ipykernel)",
   "language": "python",
   "name": "python3"
  },
  "language_info": {
   "codemirror_mode": {
    "name": "ipython",
    "version": 3
   },
   "file_extension": ".py",
   "mimetype": "text/x-python",
   "name": "python",
   "nbconvert_exporter": "python",
   "pygments_lexer": "ipython3",
   "version": "3.8.20"
  }
 },
 "nbformat": 4,
 "nbformat_minor": 5
}
