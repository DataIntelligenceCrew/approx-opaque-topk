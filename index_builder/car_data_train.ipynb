{
 "cells": [
  {
   "cell_type": "code",
   "execution_count": 1,
   "id": "f3a8c8d4-49e8-41fe-9b15-b0a2dcf7bc1a",
   "metadata": {},
   "outputs": [],
   "source": [
    "import pandas as pd\n",
    "import xgboost as xgb\n",
    "from sklearn.metrics import mean_squared_error\n",
    "import math"
   ]
  },
  {
   "cell_type": "code",
   "execution_count": 2,
   "id": "c9e3e41a-aaea-4db6-b41e-044d40b4ac3f",
   "metadata": {},
   "outputs": [],
   "source": [
    "pd.set_option('display.max_rows', 500)\n",
    "pd.set_option('display.max_columns', 500)\n",
    "pd.set_option('display.width', 1000)"
   ]
  },
  {
   "cell_type": "markdown",
   "id": "a9231e1c-a06a-4945-b3b9-8d2735a39c13",
   "metadata": {},
   "source": [
    "# Used Cars Model Trainer\n",
    "\n",
    "This notebook is used to train an XGBoost regression model using the train/test splits generated using the `clean_car_data` notebook. "
   ]
  },
  {
   "cell_type": "code",
   "execution_count": 3,
   "id": "a65f460e-8501-401c-a18a-728bb41c7777",
   "metadata": {},
   "outputs": [],
   "source": [
    "def train_xgboost_separate(train_file, test_file, label_col, random_state = 42):\n",
    "    \"\"\"\n",
    "    Trains an XGBoost model on some parquet data. \n",
    "    \n",
    "    :param train_file: Path to the parquet file containing the training data.\n",
    "    :param test_file: Path to the parquet file containing the test data.\n",
    "    :param label_col: The name of the label/target column.\n",
    "    :param random_state: Random seed for reproducibility.\n",
    "    \n",
    "    :return: Trained XGBoost model.\n",
    "    \"\"\"\n",
    "    # Load the train data, separate features and labels, convert to DMatrix\n",
    "    dtrain = pd.read_parquet(train_file)\n",
    "    X_train = dtrain.drop(columns=[label_col, 'listing_id'])\n",
    "    y_train = dtrain[label_col]\n",
    "    dtrain_matrix = xgb.DMatrix(X_train, label=y_train)\n",
    "\n",
    "    # Set up XGBoost parameters\n",
    "    params = {\n",
    "        'objective': 'reg:squarederror',\n",
    "        'max_depth': 7,\n",
    "        'eta': 0.3,\n",
    "        'device': 'cpu',\n",
    "        'subsample': 1.0,\n",
    "        'sampling_method': 'uniform',\n",
    "        'lambda': 2.0,\n",
    "        'alpha': 0.0,\n",
    "        'tree_method': 'hist',\n",
    "        'num_parallel_tree': 1,\n",
    "        'nthread': 2,\n",
    "        'seed': random_state\n",
    "    }\n",
    "\n",
    "    # Train the model\n",
    "    booster = xgb.train(max_threads\n",
    "        params,\n",
    "        dtrain_matrix,\n",
    "        num_boost_round=400\n",
    "    )\n",
    "\n",
    "    # Load the test data for evaluation\n",
    "    dtest = pd.read_parquet(test_file)\n",
    "    X_test = dtest.drop(columns=[label_col, 'listing_id'])\n",
    "    y_test = dtest[label_col]\n",
    "    dtest_matrix = xgb.DMatrix(X_test, label=y_test)\n",
    "\n",
    "    # Predict on the test set\n",
    "    y_test_pred = booster.predict(dtest_matrix)\n",
    "    y_train_pred = booster.predict(dtrain_matrix)\n",
    "\n",
    "    # Compute and return the MSE\n",
    "    test_loss = mean_squared_error(y_test, y_test_pred)\n",
    "    train_loss = mean_squared_error(y_train, y_train_pred)\n",
    "\n",
    "    # Report results\n",
    "    print(f\"train: {math.sqrt(train_loss)}, test: {math.sqrt(test_loss)}\")\n",
    "    \n",
    "    return booster"
   ]
  },
  {
   "cell_type": "code",
   "execution_count": 4,
   "id": "a67d882b-be1f-4aff-9019-7e4015906377",
   "metadata": {},
   "outputs": [
    {
     "name": "stdout",
     "output_type": "stream",
     "text": [
      "train: 6943.2990000780255, test: 8328.89817910091\n"
     ]
    }
   ],
   "source": [
    "seed = 42\n",
    "booster = train_xgboost_separate('used_cars_train.parquet', 'used_cars_test.parquet', 'price', seed)"
   ]
  },
  {
   "cell_type": "code",
   "execution_count": 5,
   "id": "c9d250c2-410a-4a89-98fb-4a2eec0fa84f",
   "metadata": {},
   "outputs": [],
   "source": [
    "booster.save_model('../Temp/Models/usedcars_model.json')"
   ]
  },
  {
   "cell_type": "code",
   "execution_count": null,
   "id": "440d727f-d61b-40f9-b56c-0efbc01c9926",
   "metadata": {},
   "outputs": [],
   "source": []
  }
 ],
 "metadata": {
  "kernelspec": {
   "display_name": "Python 3 (ipykernel)",
   "language": "python",
   "name": "python3"
  },
  "language_info": {
   "codemirror_mode": {
    "name": "ipython",
    "version": 3
   },
   "file_extension": ".py",
   "mimetype": "text/x-python",
   "name": "python",
   "nbconvert_exporter": "python",
   "pygments_lexer": "ipython3",
   "version": "3.8.20"
  }
 },
 "nbformat": 4,
 "nbformat_minor": 5
}
